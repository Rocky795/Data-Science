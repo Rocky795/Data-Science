{
 "cells": [
  {
   "cell_type": "code",
   "execution_count": 1,
   "metadata": {},
   "outputs": [],
   "source": [
    "import pandas as pd\n",
    "from sqlalchemy import create_engine"
   ]
  },
  {
   "cell_type": "code",
   "execution_count": 7,
   "metadata": {},
   "outputs": [
    {
     "ename": "ArgumentError",
     "evalue": "Could not parse rfc1738 URL from string 'mysql+com.mysql.jdbc.Driver://root:@localhost:8000/hello'",
     "output_type": "error",
     "traceback": [
      "\u001b[1;31m---------------------------------------------------------------------------\u001b[0m",
      "\u001b[1;31mArgumentError\u001b[0m                             Traceback (most recent call last)",
      "\u001b[1;32mc:\\Users\\prath\\OneDrive\\Documents\\VS CODE\\Data Science\\Data-Science\\Pandas\\mysql.ipynb Cell 2\u001b[0m in \u001b[0;36m<cell line: 1>\u001b[1;34m()\u001b[0m\n\u001b[1;32m----> <a href='vscode-notebook-cell:/c%3A/Users/prath/OneDrive/Documents/VS%20CODE/Data%20Science/Data-Science/Pandas/mysql.ipynb#W1sZmlsZQ%3D%3D?line=0'>1</a>\u001b[0m temp_db\u001b[39m=\u001b[39mcreate_engine(\u001b[39m'\u001b[39;49m\u001b[39mmysql+com.mysql.jdbc.Driver://root:@localhost:8000/hello\u001b[39;49m\u001b[39m'\u001b[39;49m)\n",
      "File \u001b[1;32m<string>:2\u001b[0m, in \u001b[0;36mcreate_engine\u001b[1;34m(url, **kwargs)\u001b[0m\n",
      "File \u001b[1;32mc:\\Users\\prath\\anaconda3\\lib\\site-packages\\sqlalchemy\\util\\deprecations.py:309\u001b[0m, in \u001b[0;36mdeprecated_params.<locals>.decorate.<locals>.warned\u001b[1;34m(fn, *args, **kwargs)\u001b[0m\n\u001b[0;32m    302\u001b[0m     \u001b[39mif\u001b[39;00m m \u001b[39min\u001b[39;00m kwargs:\n\u001b[0;32m    303\u001b[0m         _warn_with_version(\n\u001b[0;32m    304\u001b[0m             messages[m],\n\u001b[0;32m    305\u001b[0m             versions[m],\n\u001b[0;32m    306\u001b[0m             version_warnings[m],\n\u001b[0;32m    307\u001b[0m             stacklevel\u001b[39m=\u001b[39m\u001b[39m3\u001b[39m,\n\u001b[0;32m    308\u001b[0m         )\n\u001b[1;32m--> 309\u001b[0m \u001b[39mreturn\u001b[39;00m fn(\u001b[39m*\u001b[39margs, \u001b[39m*\u001b[39m\u001b[39m*\u001b[39mkwargs)\n",
      "File \u001b[1;32mc:\\Users\\prath\\anaconda3\\lib\\site-packages\\sqlalchemy\\engine\\create.py:530\u001b[0m, in \u001b[0;36mcreate_engine\u001b[1;34m(url, **kwargs)\u001b[0m\n\u001b[0;32m    527\u001b[0m kwargs\u001b[39m.\u001b[39mpop(\u001b[39m\"\u001b[39m\u001b[39mempty_in_strategy\u001b[39m\u001b[39m\"\u001b[39m, \u001b[39mNone\u001b[39;00m)\n\u001b[0;32m    529\u001b[0m \u001b[39m# create url.URL object\u001b[39;00m\n\u001b[1;32m--> 530\u001b[0m u \u001b[39m=\u001b[39m _url\u001b[39m.\u001b[39;49mmake_url(url)\n\u001b[0;32m    532\u001b[0m u, plugins, kwargs \u001b[39m=\u001b[39m u\u001b[39m.\u001b[39m_instantiate_plugins(kwargs)\n\u001b[0;32m    534\u001b[0m entrypoint \u001b[39m=\u001b[39m u\u001b[39m.\u001b[39m_get_entrypoint()\n",
      "File \u001b[1;32mc:\\Users\\prath\\anaconda3\\lib\\site-packages\\sqlalchemy\\engine\\url.py:731\u001b[0m, in \u001b[0;36mmake_url\u001b[1;34m(name_or_url)\u001b[0m\n\u001b[0;32m    724\u001b[0m \u001b[39m\"\"\"Given a string or unicode instance, produce a new URL instance.\u001b[39;00m\n\u001b[0;32m    725\u001b[0m \n\u001b[0;32m    726\u001b[0m \u001b[39mThe given string is parsed according to the RFC 1738 spec.  If an\u001b[39;00m\n\u001b[0;32m    727\u001b[0m \u001b[39mexisting URL object is passed, just returns the object.\u001b[39;00m\n\u001b[0;32m    728\u001b[0m \u001b[39m\"\"\"\u001b[39;00m\n\u001b[0;32m    730\u001b[0m \u001b[39mif\u001b[39;00m \u001b[39misinstance\u001b[39m(name_or_url, util\u001b[39m.\u001b[39mstring_types):\n\u001b[1;32m--> 731\u001b[0m     \u001b[39mreturn\u001b[39;00m _parse_rfc1738_args(name_or_url)\n\u001b[0;32m    732\u001b[0m \u001b[39melse\u001b[39;00m:\n\u001b[0;32m    733\u001b[0m     \u001b[39mreturn\u001b[39;00m name_or_url\n",
      "File \u001b[1;32mc:\\Users\\prath\\anaconda3\\lib\\site-packages\\sqlalchemy\\engine\\url.py:792\u001b[0m, in \u001b[0;36m_parse_rfc1738_args\u001b[1;34m(name)\u001b[0m\n\u001b[0;32m    789\u001b[0m     \u001b[39mreturn\u001b[39;00m URL\u001b[39m.\u001b[39mcreate(name, \u001b[39m*\u001b[39m\u001b[39m*\u001b[39mcomponents)\n\u001b[0;32m    791\u001b[0m \u001b[39melse\u001b[39;00m:\n\u001b[1;32m--> 792\u001b[0m     \u001b[39mraise\u001b[39;00m exc\u001b[39m.\u001b[39mArgumentError(\n\u001b[0;32m    793\u001b[0m         \u001b[39m\"\u001b[39m\u001b[39mCould not parse rfc1738 URL from string \u001b[39m\u001b[39m'\u001b[39m\u001b[39m%s\u001b[39;00m\u001b[39m'\u001b[39m\u001b[39m\"\u001b[39m \u001b[39m%\u001b[39m name\n\u001b[0;32m    794\u001b[0m     )\n",
      "\u001b[1;31mArgumentError\u001b[0m: Could not parse rfc1738 URL from string 'mysql+com.mysql.jdbc.Driver://root:@localhost:8000/hello'"
     ]
    }
   ],
   "source": [
    "temp_db=create_engine('mysql+com.mysql.jdbc.Driver://root:@localhost:8000/hello')"
   ]
  },
  {
   "cell_type": "code",
   "execution_count": null,
   "metadata": {},
   "outputs": [],
   "source": [
    "# Not complete"
   ]
  }
 ],
 "metadata": {
  "kernelspec": {
   "display_name": "Python 3.9.12 ('base')",
   "language": "python",
   "name": "python3"
  },
  "language_info": {
   "codemirror_mode": {
    "name": "ipython",
    "version": 3
   },
   "file_extension": ".py",
   "mimetype": "text/x-python",
   "name": "python",
   "nbconvert_exporter": "python",
   "pygments_lexer": "ipython3",
   "version": "3.9.12"
  },
  "orig_nbformat": 4,
  "vscode": {
   "interpreter": {
    "hash": "e8070615c614b468fd1de6336963f9d2847f75d3a444f9b05616daa657a2c1ed"
   }
  }
 },
 "nbformat": 4,
 "nbformat_minor": 2
}
